{
  "nbformat": 4,
  "nbformat_minor": 0,
  "metadata": {
    "colab": {
      "provenance": []
    },
    "kernelspec": {
      "name": "python3",
      "display_name": "Python 3"
    },
    "language_info": {
      "name": "python"
    }
  },
  "cells": [
    {
      "cell_type": "code",
      "execution_count": null,
      "metadata": {
        "colab": {
          "base_uri": "https://localhost:8080/"
        },
        "id": "6pPnXpwL8vJt",
        "outputId": "8ae20e0f-9b36-480d-c188-64f188cac092"
      },
      "outputs": [
        {
          "output_type": "stream",
          "name": "stdout",
          "text": [
            "11\n",
            "-1\n",
            "30\n",
            "2.5\n",
            "2\n",
            "1\n",
            "25\n"
          ]
        }
      ],
      "source": [
        "#Arithmetic Operators\n",
        "print(5+6)\n",
        "print(5-6)\n",
        "print(5*6)\n",
        "print(5/2)\n",
        "print(5//2)\n",
        "print(5%2)\n",
        "print(5**2)"
      ]
    },
    {
      "cell_type": "code",
      "source": [
        "# Relational Operators\n",
        "\n",
        "print(4>5)\n",
        "print(4<5)\n",
        "print(4>=4)\n",
        "print(4==4)\n",
        "print(4!=4)"
      ],
      "metadata": {
        "colab": {
          "base_uri": "https://localhost:8080/"
        },
        "id": "zwVBSRne9MEu",
        "outputId": "6d8ecfb1-baa3-43e2-d3b6-74fcc7811363"
      },
      "execution_count": null,
      "outputs": [
        {
          "output_type": "stream",
          "name": "stdout",
          "text": [
            "False\n",
            "True\n",
            "True\n",
            "True\n",
            "False\n"
          ]
        }
      ]
    },
    {
      "cell_type": "code",
      "source": [
        "#Logical Operators\n",
        "\n",
        "print(1 and 0)\n",
        "print(1 or 0)\n",
        "print(not 1)"
      ],
      "metadata": {
        "colab": {
          "base_uri": "https://localhost:8080/"
        },
        "id": "ShboN5FF9Q8M",
        "outputId": "8a9ffdcf-7dbe-4d9d-ed84-24a83c72dada"
      },
      "execution_count": null,
      "outputs": [
        {
          "output_type": "stream",
          "name": "stdout",
          "text": [
            "0\n",
            "1\n",
            "False\n"
          ]
        }
      ]
    },
    {
      "cell_type": "code",
      "source": [
        "#Bitwise Operators\n",
        "\n",
        "#Bitwise and\n",
        "print(2 & 3)\n",
        "\n",
        "#Bitwise or\n",
        "print(2 | 3)\n",
        "\n",
        "#Bitwise xor\n",
        "print( 2 ^ 2)\n",
        "\n",
        "print(~3)\n",
        "\n",
        "print( 4 >> 2)\n",
        "\n",
        "print(4 << 2)"
      ],
      "metadata": {
        "colab": {
          "base_uri": "https://localhost:8080/"
        },
        "id": "kAbcUq7r9ez_",
        "outputId": "6b74d79c-ecf9-4c3c-cc29-1dd74abbea22"
      },
      "execution_count": null,
      "outputs": [
        {
          "output_type": "stream",
          "name": "stdout",
          "text": [
            "2\n",
            "3\n",
            "0\n",
            "-4\n",
            "1\n",
            "16\n"
          ]
        }
      ]
    },
    {
      "cell_type": "code",
      "source": [
        "# Assignment Operators\n",
        "\n",
        "a=2\n",
        "\n",
        "a%=2\n",
        "\n",
        "print(a)"
      ],
      "metadata": {
        "colab": {
          "base_uri": "https://localhost:8080/"
        },
        "id": "hRPfPufJBOM_",
        "outputId": "a226ca3c-9419-4191-cfdb-5c7f43dacf73"
      },
      "execution_count": null,
      "outputs": [
        {
          "output_type": "stream",
          "name": "stdout",
          "text": [
            "0\n"
          ]
        }
      ]
    },
    {
      "cell_type": "code",
      "source": [
        "#Membership Operators\n",
        "\n",
        "#in/not in\n",
        "\n",
        "print('D' not in 'Delhi')\n",
        "\n",
        "print(1 in [2,3,4,5,6])"
      ],
      "metadata": {
        "id": "tiOKPZvJBdae",
        "colab": {
          "base_uri": "https://localhost:8080/"
        },
        "outputId": "9eda0d9f-8568-4f38-d82b-65951c0ba444"
      },
      "execution_count": 1,
      "outputs": [
        {
          "output_type": "stream",
          "name": "stdout",
          "text": [
            "False\n",
            "False\n"
          ]
        }
      ]
    },
    {
      "cell_type": "code",
      "source": [
        "# Program - Find the sum of a 3 digit number entered by the user\n",
        "\n",
        "num=int(input('Enter the number'))\n",
        "\n",
        "sum=0\n",
        "while(num !=0):\n",
        "  digit=num%10\n",
        "  sum=sum+digit\n",
        "  num=num//10\n",
        "\n",
        "print(sum)"
      ],
      "metadata": {
        "colab": {
          "base_uri": "https://localhost:8080/"
        },
        "id": "LknJJ8W6WbjM",
        "outputId": "3c4a899b-86c8-44e7-ebcd-49606818ef58"
      },
      "execution_count": 4,
      "outputs": [
        {
          "output_type": "stream",
          "name": "stdout",
          "text": [
            "Enter the number666\n",
            "18\n"
          ]
        }
      ]
    },
    {
      "cell_type": "markdown",
      "source": [
        "If-else in Python"
      ],
      "metadata": {
        "id": "F0MPUZJWXCHS"
      }
    },
    {
      "cell_type": "code",
      "source": [
        "# login program and indentation\n",
        "# email -> dhrupad@gmail.com\n",
        "# password -> 1234\n",
        "\n",
        "email=input('Enter your email')\n",
        "password=input('Enter your pasword')\n",
        "\n",
        "if email=='dhrupad@gmail.com'and password== '1234' :\n",
        "  print('Login Successful')\n",
        "elif email=='dhrupad@gmail.com' and password != '1234':\n",
        "  print('Incorrect Password')\n",
        "  password=input('Enter Correct password')\n",
        "  if password=='1234':\n",
        "    print('Login Done Finally')\n",
        "  else:\n",
        "    print('You have succesfully forgotten your password')\n",
        "\n",
        "else:\n",
        "  print('Incorrect Email')"
      ],
      "metadata": {
        "colab": {
          "base_uri": "https://localhost:8080/"
        },
        "id": "T3VcmHvqXC3q",
        "outputId": "4f9d3bda-99a0-4d29-df53-be8b8b035799"
      },
      "execution_count": 8,
      "outputs": [
        {
          "output_type": "stream",
          "name": "stdout",
          "text": [
            "Enter your emaildhrupad@gmail.com\n",
            "Enter your pasword1435\n",
            "Incorrect Password\n",
            "Enter Correct password1234\n",
            "Login Done Finally\n"
          ]
        }
      ]
    },
    {
      "cell_type": "code",
      "source": [
        "# min of 3 number\n",
        "\n",
        "a=int(input('Enter the first number'))\n",
        "b=int(input('Enter the second number'))\n",
        "c=int(input('Enter the third number'))\n",
        "\n",
        "if a<b and a<c:\n",
        "  print('a is minimum')\n",
        "elif b<c:\n",
        "  print('b is minimum')\n",
        "else:\n",
        "  print('c is minimum')"
      ],
      "metadata": {
        "colab": {
          "base_uri": "https://localhost:8080/"
        },
        "id": "TVXCyDMCYL_L",
        "outputId": "9610ba39-429b-451f-814a-6186454c8fed"
      },
      "execution_count": 9,
      "outputs": [
        {
          "output_type": "stream",
          "name": "stdout",
          "text": [
            "Enter the first number12\n",
            "Enter the second number22\n",
            "Enter the third number3\n",
            "c is minimum\n"
          ]
        }
      ]
    },
    {
      "cell_type": "markdown",
      "source": [
        "# Modules in Python\n",
        "- math\n",
        "- keywords\n",
        "- random\n",
        "- datetime"
      ],
      "metadata": {
        "id": "NGw1zeR2ZDzp"
      }
    },
    {
      "cell_type": "code",
      "source": [
        "#math\n",
        "\n",
        "import math\n",
        "\n",
        "math.sqrt(225)"
      ],
      "metadata": {
        "colab": {
          "base_uri": "https://localhost:8080/"
        },
        "id": "3vt_QykSZIOU",
        "outputId": "24552548-9758-4140-e902-615327588366"
      },
      "execution_count": 10,
      "outputs": [
        {
          "output_type": "execute_result",
          "data": {
            "text/plain": [
              "15.0"
            ]
          },
          "metadata": {},
          "execution_count": 10
        }
      ]
    },
    {
      "cell_type": "code",
      "source": [
        "#keyword\n",
        "\n",
        "import keyword\n",
        "\n",
        "print(keyword.kwlist)\n",
        "\n",
        "# it will print out the list of keywords in Python"
      ],
      "metadata": {
        "colab": {
          "base_uri": "https://localhost:8080/"
        },
        "id": "VLxHpFhRZRRK",
        "outputId": "c1526fc1-d96b-414e-c4ab-b54e3b912516"
      },
      "execution_count": 11,
      "outputs": [
        {
          "output_type": "stream",
          "name": "stdout",
          "text": [
            "['False', 'None', 'True', 'and', 'as', 'assert', 'async', 'await', 'break', 'class', 'continue', 'def', 'del', 'elif', 'else', 'except', 'finally', 'for', 'from', 'global', 'if', 'import', 'in', 'is', 'lambda', 'nonlocal', 'not', 'or', 'pass', 'raise', 'return', 'try', 'while', 'with', 'yield']\n"
          ]
        }
      ]
    },
    {
      "cell_type": "code",
      "source": [
        "#random\n",
        "\n",
        "import random\n",
        "\n",
        "print(random.randint(1,5))"
      ],
      "metadata": {
        "colab": {
          "base_uri": "https://localhost:8080/"
        },
        "id": "x52_jZtCZY6Z",
        "outputId": "348a0a47-266e-4b78-b462-d24d7d5cd866"
      },
      "execution_count": 22,
      "outputs": [
        {
          "output_type": "stream",
          "name": "stdout",
          "text": [
            "3\n"
          ]
        }
      ]
    },
    {
      "cell_type": "code",
      "source": [
        "# datetime\n",
        "\n",
        "import datetime\n",
        "print(datetime.datetime.now())"
      ],
      "metadata": {
        "colab": {
          "base_uri": "https://localhost:8080/"
        },
        "id": "SkxBjM-gZ8Rp",
        "outputId": "52b6a41f-dcfe-481a-b36f-fccf9635fca4"
      },
      "execution_count": 23,
      "outputs": [
        {
          "output_type": "stream",
          "name": "stdout",
          "text": [
            "2024-07-10 06:51:18.244273\n"
          ]
        }
      ]
    },
    {
      "cell_type": "markdown",
      "source": [
        "# Loops in Python\n",
        "\n",
        "- While Loop\n",
        "- For Loop"
      ],
      "metadata": {
        "id": "H2_03tOnaarw"
      }
    },
    {
      "cell_type": "code",
      "source": [
        "# While loop example -> program to print the table\n",
        "\n",
        "n=int(input('Enter the number'))\n",
        "i=1\n",
        "\n",
        "while i<=10:\n",
        "  print(n,'*',i,'=',n*i)\n",
        "  i=i+1"
      ],
      "metadata": {
        "colab": {
          "base_uri": "https://localhost:8080/"
        },
        "id": "l3Z4L292aetp",
        "outputId": "0510a457-e825-40a8-8397-696514dd8c70"
      },
      "execution_count": 24,
      "outputs": [
        {
          "output_type": "stream",
          "name": "stdout",
          "text": [
            "Enter the number12\n",
            "12 * 1 = 12\n",
            "12 * 2 = 24\n",
            "12 * 3 = 36\n",
            "12 * 4 = 48\n",
            "12 * 5 = 60\n",
            "12 * 6 = 72\n",
            "12 * 7 = 84\n",
            "12 * 8 = 96\n",
            "12 * 9 = 108\n",
            "12 * 10 = 120\n"
          ]
        }
      ]
    },
    {
      "cell_type": "code",
      "source": [
        "# For loop demo\n",
        "\n",
        "for i in range(1, 11):\n",
        "  print(i)"
      ],
      "metadata": {
        "colab": {
          "base_uri": "https://localhost:8080/"
        },
        "id": "J2L-JrMta5rz",
        "outputId": "a75a15c6-e738-422a-a50a-921eab94ee6b"
      },
      "execution_count": 25,
      "outputs": [
        {
          "output_type": "stream",
          "name": "stdout",
          "text": [
            "1\n",
            "2\n",
            "3\n",
            "4\n",
            "5\n",
            "6\n",
            "7\n",
            "8\n",
            "9\n",
            "10\n"
          ]
        }
      ]
    },
    {
      "cell_type": "code",
      "source": [],
      "metadata": {
        "id": "EpYXe--JbJUZ"
      },
      "execution_count": null,
      "outputs": []
    }
  ]
}