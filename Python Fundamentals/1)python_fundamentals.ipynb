{
  "nbformat": 4,
  "nbformat_minor": 0,
  "metadata": {
    "colab": {
      "provenance": []
    },
    "kernelspec": {
      "name": "python3",
      "display_name": "Python 3"
    },
    "language_info": {
      "name": "python"
    }
  },
  "cells": [
    {
      "cell_type": "code",
      "execution_count": 29,
      "metadata": {
        "id": "7zIxulIVpgbB"
      },
      "outputs": [],
      "source": [
        "#1. Python Output"
      ]
    },
    {
      "cell_type": "code",
      "source": [
        "print('Hello World')"
      ],
      "metadata": {
        "colab": {
          "base_uri": "https://localhost:8080/"
        },
        "id": "o8NkoDWjqZ8u",
        "outputId": "90e84d11-c24e-457a-b7f6-f4b5637ca0f9"
      },
      "execution_count": 30,
      "outputs": [
        {
          "output_type": "stream",
          "name": "stdout",
          "text": [
            "Hello World\n"
          ]
        }
      ]
    },
    {
      "cell_type": "code",
      "source": [
        "print('Hello',1,3.5,True)"
      ],
      "metadata": {
        "colab": {
          "base_uri": "https://localhost:8080/"
        },
        "id": "yl2l2jRPrRjb",
        "outputId": "b36f7d80-03dd-47c4-e817-2fd2f143371c"
      },
      "execution_count": 31,
      "outputs": [
        {
          "output_type": "stream",
          "name": "stdout",
          "text": [
            "Hello 1 3.5 True\n"
          ]
        }
      ]
    },
    {
      "cell_type": "code",
      "source": [
        "print('Hello',1,4.5,True, sep='/')"
      ],
      "metadata": {
        "colab": {
          "base_uri": "https://localhost:8080/"
        },
        "id": "eb9HEbaErZJ9",
        "outputId": "0a9e0353-fc99-45b5-e07c-1984c6b510c3"
      },
      "execution_count": 32,
      "outputs": [
        {
          "output_type": "stream",
          "name": "stdout",
          "text": [
            "Hello/1/4.5/True\n"
          ]
        }
      ]
    },
    {
      "cell_type": "code",
      "source": [
        "print('hello',end='-')\n",
        "print('world')"
      ],
      "metadata": {
        "colab": {
          "base_uri": "https://localhost:8080/"
        },
        "id": "tHqQTPKtrgfc",
        "outputId": "9e51b354-0d0e-48c7-b8d4-6b052f4bf725"
      },
      "execution_count": 33,
      "outputs": [
        {
          "output_type": "stream",
          "name": "stdout",
          "text": [
            "hello-world\n"
          ]
        }
      ]
    },
    {
      "cell_type": "code",
      "source": [],
      "metadata": {
        "id": "S1EBEHJ_ryl7"
      },
      "execution_count": 33,
      "outputs": []
    },
    {
      "cell_type": "code",
      "source": [
        "# 2. Data Types"
      ],
      "metadata": {
        "id": "Zk1d0Q5zroGr"
      },
      "execution_count": 34,
      "outputs": []
    },
    {
      "cell_type": "code",
      "source": [
        "#Integer\n",
        "print(8)\n",
        "#1*10^308 is the limit\n",
        "print(1e309)"
      ],
      "metadata": {
        "colab": {
          "base_uri": "https://localhost:8080/"
        },
        "id": "kSTrUPxdrvcc",
        "outputId": "1b3228b0-642a-4f3a-853d-f085979c8da9"
      },
      "execution_count": 35,
      "outputs": [
        {
          "output_type": "stream",
          "name": "stdout",
          "text": [
            "8\n",
            "inf\n"
          ]
        }
      ]
    },
    {
      "cell_type": "code",
      "source": [
        "#same for float\n",
        "print(1.8e309)"
      ],
      "metadata": {
        "colab": {
          "base_uri": "https://localhost:8080/"
        },
        "id": "7vmdCoXKr7Pd",
        "outputId": "fd9e41b1-f569-49fc-e906-d95d4571cf60"
      },
      "execution_count": 36,
      "outputs": [
        {
          "output_type": "stream",
          "name": "stdout",
          "text": [
            "inf\n"
          ]
        }
      ]
    },
    {
      "cell_type": "code",
      "source": [
        "#Boolean\n",
        "print(True)\n",
        "print(False)"
      ],
      "metadata": {
        "colab": {
          "base_uri": "https://localhost:8080/"
        },
        "id": "gnDyogs1r_Ra",
        "outputId": "a9783fb3-832c-498c-fddc-02106e487901"
      },
      "execution_count": 37,
      "outputs": [
        {
          "output_type": "stream",
          "name": "stdout",
          "text": [
            "True\n",
            "False\n"
          ]
        }
      ]
    },
    {
      "cell_type": "code",
      "source": [
        "#String\n",
        "print('hello world')"
      ],
      "metadata": {
        "colab": {
          "base_uri": "https://localhost:8080/"
        },
        "id": "abUBcAfUsH1s",
        "outputId": "b200dcff-8bf7-4509-b25d-f619b9734579"
      },
      "execution_count": 38,
      "outputs": [
        {
          "output_type": "stream",
          "name": "stdout",
          "text": [
            "hello world\n"
          ]
        }
      ]
    },
    {
      "cell_type": "code",
      "source": [
        "#complex\n",
        "print(4+7j)"
      ],
      "metadata": {
        "colab": {
          "base_uri": "https://localhost:8080/"
        },
        "id": "Uz7iRDx3sUv0",
        "outputId": "af83ce61-5ee3-4e1b-81a0-e62942b72b9f"
      },
      "execution_count": 39,
      "outputs": [
        {
          "output_type": "stream",
          "name": "stdout",
          "text": [
            "(4+7j)\n"
          ]
        }
      ]
    },
    {
      "cell_type": "code",
      "source": [
        "#List\n",
        "print([1,2,3,4,5])"
      ],
      "metadata": {
        "colab": {
          "base_uri": "https://localhost:8080/"
        },
        "id": "BOIserYysa5C",
        "outputId": "9bf6ee42-f7d7-41e0-d8b7-0fd065257231"
      },
      "execution_count": 40,
      "outputs": [
        {
          "output_type": "stream",
          "name": "stdout",
          "text": [
            "[1, 2, 3, 4, 5]\n"
          ]
        }
      ]
    },
    {
      "cell_type": "code",
      "source": [
        "#Tuple\n",
        "print((1,2,3,4,5))"
      ],
      "metadata": {
        "colab": {
          "base_uri": "https://localhost:8080/"
        },
        "id": "94Jm5BnwthlL",
        "outputId": "c33e6496-f83b-44a6-894a-a4076aeefba5"
      },
      "execution_count": 41,
      "outputs": [
        {
          "output_type": "stream",
          "name": "stdout",
          "text": [
            "(1, 2, 3, 4, 5)\n"
          ]
        }
      ]
    },
    {
      "cell_type": "code",
      "source": [
        "#Sets\n",
        "print({1,2,3,4,5})"
      ],
      "metadata": {
        "colab": {
          "base_uri": "https://localhost:8080/"
        },
        "id": "Ri3J6W8ntq9c",
        "outputId": "1ad57dae-1c16-401f-f3e0-6c33fc3fe8a1"
      },
      "execution_count": 42,
      "outputs": [
        {
          "output_type": "stream",
          "name": "stdout",
          "text": [
            "{1, 2, 3, 4, 5}\n"
          ]
        }
      ]
    },
    {
      "cell_type": "code",
      "source": [
        "#Dictionary\n",
        "print({'name':'Dhrupad','gender':'Male','weight':78})"
      ],
      "metadata": {
        "colab": {
          "base_uri": "https://localhost:8080/"
        },
        "id": "0QmVumeDt44k",
        "outputId": "ba4f819b-6b0c-46e0-c23c-ecaaaa66b75b"
      },
      "execution_count": 43,
      "outputs": [
        {
          "output_type": "stream",
          "name": "stdout",
          "text": [
            "{'name': 'Dhrupad', 'gender': 'Male', 'weight': 78}\n"
          ]
        }
      ]
    },
    {
      "cell_type": "code",
      "source": [
        "#type\n",
        "type([1,2,3])"
      ],
      "metadata": {
        "colab": {
          "base_uri": "https://localhost:8080/"
        },
        "id": "em_hzOb5uGcE",
        "outputId": "f2c56bd8-05ae-4c72-97c8-a9e40b73e513"
      },
      "execution_count": 44,
      "outputs": [
        {
          "output_type": "execute_result",
          "data": {
            "text/plain": [
              "list"
            ]
          },
          "metadata": {},
          "execution_count": 44
        }
      ]
    },
    {
      "cell_type": "markdown",
      "source": [
        "3. Variables"
      ],
      "metadata": {
        "id": "pGfo94OvuJys"
      }
    },
    {
      "cell_type": "code",
      "source": [
        "#Dynamic Typing\n",
        "a=5\n",
        "#Static Typing\n",
        "#int a=5"
      ],
      "metadata": {
        "id": "c9ZmJnnAuMa6"
      },
      "execution_count": 45,
      "outputs": []
    },
    {
      "cell_type": "code",
      "source": [
        "# Dynamic Binding\n",
        "a=5\n",
        "print(a)\n",
        "a='Dhrupad'\n",
        "print(a)"
      ],
      "metadata": {
        "colab": {
          "base_uri": "https://localhost:8080/"
        },
        "id": "KCyZvy0WuYjr",
        "outputId": "5936a48c-848f-4648-9ac1-4f13ba17ebe6"
      },
      "execution_count": 46,
      "outputs": [
        {
          "output_type": "stream",
          "name": "stdout",
          "text": [
            "5\n",
            "Dhrupad\n"
          ]
        }
      ]
    },
    {
      "cell_type": "code",
      "source": [
        "a,b,c=4,5,6\n",
        "print(a,b,c)"
      ],
      "metadata": {
        "colab": {
          "base_uri": "https://localhost:8080/"
        },
        "id": "DcJoIKmQunLz",
        "outputId": "201ee613-3e66-4f56-9dc4-3b0d71519b2e"
      },
      "execution_count": 47,
      "outputs": [
        {
          "output_type": "stream",
          "name": "stdout",
          "text": [
            "4 5 6\n"
          ]
        }
      ]
    },
    {
      "cell_type": "markdown",
      "source": [
        "4. Keywords & Identifiers"
      ],
      "metadata": {
        "id": "cAfTkg-Bu0R0"
      }
    },
    {
      "cell_type": "code",
      "source": [
        "# You can't start with a digit\n",
        "name1='Dhrupad'\n",
        "print(name1)\n",
        "\n",
        "# You can use special chars -> _\n",
        "_='Dhrupad'\n",
        "print(_)"
      ],
      "metadata": {
        "colab": {
          "base_uri": "https://localhost:8080/"
        },
        "id": "vZIPV11au0zV",
        "outputId": "33c84134-e396-4dd6-9341-d853bc2e3519"
      },
      "execution_count": 48,
      "outputs": [
        {
          "output_type": "stream",
          "name": "stdout",
          "text": [
            "Dhrupad\n",
            "Dhrupad\n"
          ]
        }
      ]
    },
    {
      "cell_type": "markdown",
      "source": [
        "5. User Input"
      ],
      "metadata": {
        "id": "E5mGOWc6vr3K"
      }
    },
    {
      "cell_type": "code",
      "source": [
        "# Static Input\n",
        "input('Enter email')"
      ],
      "metadata": {
        "colab": {
          "base_uri": "https://localhost:8080/",
          "height": 53
        },
        "id": "TfYKQeF6vsY9",
        "outputId": "79795565-900d-4db1-9b6c-85350de01b0b"
      },
      "execution_count": 49,
      "outputs": [
        {
          "name": "stdout",
          "output_type": "stream",
          "text": [
            "Enter emaildhrupadchakraborty@gmail.com\n"
          ]
        },
        {
          "output_type": "execute_result",
          "data": {
            "text/plain": [
              "'dhrupadchakraborty@gmail.com'"
            ],
            "application/vnd.google.colaboratory.intrinsic+json": {
              "type": "string"
            }
          },
          "metadata": {},
          "execution_count": 49
        }
      ]
    },
    {
      "cell_type": "code",
      "source": [
        "# Dynamic Input\n",
        "fnum=int(input('Enter First Number'))\n",
        "lnum=int(input('Enter Second Number'))\n",
        "result=fnum+lnum\n",
        "print(result)\n",
        "print(type(result))"
      ],
      "metadata": {
        "colab": {
          "base_uri": "https://localhost:8080/"
        },
        "id": "OunBkLMqv2r9",
        "outputId": "45d779b8-0cfe-47f1-9192-56ba81163ab1"
      },
      "execution_count": 50,
      "outputs": [
        {
          "output_type": "stream",
          "name": "stdout",
          "text": [
            "Enter First Number12\n",
            "Enter Second Number23\n",
            "35\n",
            "<class 'int'>\n"
          ]
        }
      ]
    },
    {
      "cell_type": "markdown",
      "source": [
        "6. Type Conversion"
      ],
      "metadata": {
        "id": "fF42C7Phwb-8"
      }
    },
    {
      "cell_type": "code",
      "source": [
        "#Implicit\n",
        "print(4+4.5)\n",
        "#Explicit\n",
        "str(5)\n",
        "float(4)"
      ],
      "metadata": {
        "colab": {
          "base_uri": "https://localhost:8080/"
        },
        "id": "DDmk4RWTwc2t",
        "outputId": "3f72a913-9a48-468d-b0f2-f7a02194a1c6"
      },
      "execution_count": 51,
      "outputs": [
        {
          "output_type": "stream",
          "name": "stdout",
          "text": [
            "8.5\n"
          ]
        },
        {
          "output_type": "execute_result",
          "data": {
            "text/plain": [
              "4.0"
            ]
          },
          "metadata": {},
          "execution_count": 51
        }
      ]
    },
    {
      "cell_type": "markdown",
      "source": [
        "7. Literals"
      ],
      "metadata": {
        "id": "T6Kk_P-zw0lL"
      }
    },
    {
      "cell_type": "code",
      "source": [
        "a=0b1010 #Binary Literal\n",
        "b=100 #Decimal Literal\n",
        "c=0o310 #Octal Literal\n",
        "d=0x12c #Hexadecimal Literal\n",
        "\n",
        "#Float Literal\n",
        "float_1=10.5\n",
        "float_2=1.5e2 #1.5*10^2\n",
        "float_3=1.5e-3 #1.5*10^-3\n",
        "\n",
        "#Complex Literal\n",
        "x=3.14j\n",
        "\n",
        "print(a,b,c,d)\n",
        "print(float_1,float_2,float_3)\n",
        "print(x,x.imag,x.real)"
      ],
      "metadata": {
        "colab": {
          "base_uri": "https://localhost:8080/"
        },
        "id": "SdkwQ0Tew2Qd",
        "outputId": "cd2c6683-56ff-4590-8e13-43f783dc9a44"
      },
      "execution_count": 52,
      "outputs": [
        {
          "output_type": "stream",
          "name": "stdout",
          "text": [
            "10 100 200 300\n",
            "10.5 150.0 0.0015\n",
            "3.14j 3.14 0.0\n"
          ]
        }
      ]
    },
    {
      "cell_type": "code",
      "source": [
        "string='This is Python'\n",
        "strings=\"This is Python\"\n",
        "char=\"C\"\n",
        "multiline_str=\"\"\"This is\n",
        "a multiline\n",
        "string\"\"\"\n",
        "unicode=u\"\\U0001f600\\U0001F606\\U0001F923\"\n",
        "print(string)\n",
        "print(strings)\n",
        "print(char)\n",
        "print(multiline_str)\n",
        "print(unicode)\n"
      ],
      "metadata": {
        "id": "YWXhpjf3xgxu",
        "outputId": "5983827c-7e6d-4cf5-a7ff-fdb7790c9a8d",
        "colab": {
          "base_uri": "https://localhost:8080/"
        }
      },
      "execution_count": 53,
      "outputs": [
        {
          "output_type": "stream",
          "name": "stdout",
          "text": [
            "This is Python\n",
            "This is Python\n",
            "C\n",
            "This is \n",
            "a multiline\n",
            "string\n",
            "😀😆🤣\n"
          ]
        }
      ]
    },
    {
      "cell_type": "code",
      "source": [
        "a=True+4\n",
        "b=False+10\n",
        "print(a,b)"
      ],
      "metadata": {
        "id": "aabUs0kGyGze",
        "outputId": "4ad7044d-c098-4d07-c098-00c339d20b50",
        "colab": {
          "base_uri": "https://localhost:8080/"
        }
      },
      "execution_count": 54,
      "outputs": [
        {
          "output_type": "stream",
          "name": "stdout",
          "text": [
            "5 10\n"
          ]
        }
      ]
    },
    {
      "cell_type": "code",
      "source": [],
      "metadata": {
        "id": "6N7Mm4BDyLq9"
      },
      "execution_count": null,
      "outputs": []
    }
  ]
}