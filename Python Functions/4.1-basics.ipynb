{
 "cells": [
  {
   "cell_type": "code",
   "execution_count": 1,
   "metadata": {},
   "outputs": [],
   "source": [
    "## Syntax\n",
    "def function_name(parameters):\n",
    "    \"\"\"Docstring\"\"\"\n",
    "    #Function Body\n",
    "    return expression"
   ]
  },
  {
   "cell_type": "code",
   "execution_count": 2,
   "metadata": {},
   "outputs": [
    {
     "name": "stdout",
     "output_type": "stream",
     "text": [
      "(6, 2)\n"
     ]
    }
   ],
   "source": [
    "## function with multiple parameters\n",
    "def add(a,b):\n",
    "    return a+b,a\n",
    "## calling function\n",
    "result=add(2,4)\n",
    "print(result)"
   ]
  },
  {
   "cell_type": "code",
   "execution_count": 3,
   "metadata": {},
   "outputs": [
    {
     "name": "stdout",
     "output_type": "stream",
     "text": [
      "Hello Dhrupad Welcome to the Club !\n"
     ]
    }
   ],
   "source": [
    "## Passing Parameters\n",
    "\n",
    "def greet(name):\n",
    "    print(f\"Hello {name} Welcome to the Club !\")\n",
    "\n",
    "greet(\"Dhrupad\")"
   ]
  },
  {
   "cell_type": "code",
   "execution_count": 4,
   "metadata": {},
   "outputs": [
    {
     "name": "stdout",
     "output_type": "stream",
     "text": [
      "Hello Dhrupad Welcome to the Club !\n",
      "Hello guest Welcome to the Club !\n"
     ]
    }
   ],
   "source": [
    "## Default Parameters\n",
    "def greet(name=\"guest\"):\n",
    "    print(f\"Hello {name} Welcome to the Club !\")\n",
    "\n",
    "greet(\"Dhrupad\")\n",
    "greet()"
   ]
  },
  {
   "cell_type": "code",
   "execution_count": 5,
   "metadata": {},
   "outputs": [
    {
     "name": "stdout",
     "output_type": "stream",
     "text": [
      "1\n",
      "2\n",
      "3\n",
      "4\n",
      "5\n",
      "6\n",
      "7\n",
      "8\n"
     ]
    }
   ],
   "source": [
    "## Variable Length Arguments\n",
    "\n",
    "def print_numbers(*args):\n",
    "    for num in args:\n",
    "        print(num)\n",
    "\n",
    "print_numbers(1,2,3,4,5,6,7,8)"
   ]
  },
  {
   "cell_type": "code",
   "execution_count": 6,
   "metadata": {},
   "outputs": [
    {
     "name": "stdout",
     "output_type": "stream",
     "text": [
      "1\n",
      "2\n",
      "3\n",
      "4\n",
      "Dhrupad\n"
     ]
    }
   ],
   "source": [
    "## Positional Arguments\n",
    "\n",
    "def print_numbers(*args):\n",
    "    for num in args:\n",
    "        print(num)\n",
    "\n",
    "print_numbers(1,2,3,4,\"Dhrupad\")"
   ]
  },
  {
   "cell_type": "code",
   "execution_count": 7,
   "metadata": {},
   "outputs": [
    {
     "name": "stdout",
     "output_type": "stream",
     "text": [
      "name:Dhrupad\n",
      "age:23\n",
      "country:India\n"
     ]
    }
   ],
   "source": [
    "## Keywords Arguments\n",
    "\n",
    "def print_details(**args):\n",
    "    for key, value in args.items():\n",
    "        print(f\"{key}:{value}\")\n",
    "\n",
    "print_details(name=\"Dhrupad\", age=\"23\", country=\"India\")"
   ]
  },
  {
   "cell_type": "code",
   "execution_count": 8,
   "metadata": {},
   "outputs": [
    {
     "name": "stdout",
     "output_type": "stream",
     "text": [
      "Positional Arguments : 1\n",
      "Positional Arguments : 2\n",
      "Positional Arguments : 3\n",
      "Positional Arguments : 4\n",
      "Positional Arguments : Dhrupad\n",
      "name:Dhrupad\n",
      "age:23\n",
      "country:India\n"
     ]
    }
   ],
   "source": [
    "## Both parameters together\n",
    "\n",
    "def print_details(*args, **kargs):\n",
    "    for val in args:\n",
    "        print(f\"Positional Arguments : {val}\")\n",
    "\n",
    "    for key,value in kargs.items():\n",
    "        print(f\"{key}:{value}\")\n",
    "\n",
    "\n",
    "print_details(1,2,3,4,\"Dhrupad\",name=\"Dhrupad\",age=\"23\",country=\"India\")\n",
    "              \n"
   ]
  },
  {
   "cell_type": "code",
   "execution_count": null,
   "metadata": {},
   "outputs": [],
   "source": []
  }
 ],
 "metadata": {
  "kernelspec": {
   "display_name": "Python 3",
   "language": "python",
   "name": "python3"
  },
  "language_info": {
   "codemirror_mode": {
    "name": "ipython",
    "version": 3
   },
   "file_extension": ".py",
   "mimetype": "text/x-python",
   "name": "python",
   "nbconvert_exporter": "python",
   "pygments_lexer": "ipython3",
   "version": "3.10.0"
  }
 },
 "nbformat": 4,
 "nbformat_minor": 2
}
